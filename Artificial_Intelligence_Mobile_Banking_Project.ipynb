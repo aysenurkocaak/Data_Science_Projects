{
  "nbformat": 4,
  "nbformat_minor": 0,
  "metadata": {
    "colab": {
      "provenance": [],
      "include_colab_link": true
    },
    "kernelspec": {
      "name": "python3",
      "display_name": "Python 3"
    },
    "language_info": {
      "name": "python"
    }
  },
  "cells": [
    {
      "cell_type": "markdown",
      "metadata": {
        "id": "view-in-github",
        "colab_type": "text"
      },
      "source": [
        "<a href=\"https://colab.research.google.com/github/aysenurkocaak/Data_Science_Projects/blob/main/Artificial_Intelligence_Mobile_Banking_Project.ipynb\" target=\"_parent\"><img src=\"https://colab.research.google.com/assets/colab-badge.svg\" alt=\"Open In Colab\"/></a>"
      ]
    },
    {
      "cell_type": "code",
      "source": [
        "#https://www.kaggle.com/datasets/cagrigungor/telefon-bankacl-mobile-bank\n"
      ],
      "metadata": {
        "id": "0lghnrFq8ADY"
      },
      "execution_count": null,
      "outputs": []
    },
    {
      "cell_type": "code",
      "execution_count": null,
      "metadata": {
        "id": "C7Y5UPZZ2V8C"
      },
      "outputs": [],
      "source": [
        "import pandas as pd\n",
        "import numpy as np\n",
        "from sklearn.feature_extraction.text import CountVectorizer\n",
        "from sklearn.ensemble import RandomForestClassifier\n",
        "from sklearn.model_selection import train_test_split"
      ]
    },
    {
      "cell_type": "code",
      "source": [
        "df=pd.read_csv('banka.csv')\n",
        "df=df[['sorgu','label']]\n",
        "stopwords=['fakat','lakin','ancak','acaba', 'ama', 'aslında', 'az', 'bazı', 'belki', 'biri', 'birkaç', 'birşey', 'biz', 'bu', 'çok', 'çünkü', 'da', 'daha', 'de', 'defa', 'diye', 'eğer', 'en', 'gibi', 'hem', 'hep', 'hepsi', 'her', 'hiç', 'için', 'ile', 'ise', 'kez', 'ki', 'kim', 'mı', 'mu', 'mü', 'nasıl', 'ne', 'neden', 'nerde', 'nerede', 'nereye', 'niçin', 'niye', 'o', 'sanki', 'şey', 'siz', 'şu', 'tüm', 've', 'veya', 'ya', 'yani']\n",
        "\n",
        "mesaj=input(\"Yapmak İstediniz İşlemi Giriniz.\")\n",
        "\n",
        "mesajdf=pd.DataFrame({\"sorgu\":mesaj,\"label\":0},index=[42])\n",
        "\n",
        "df=pd.concat([df,mesajdf],ignore_index=True)\n",
        "\n",
        "\n",
        "\n",
        "for word in stopwords:\n",
        "    word=\" \"+word+\" \"\n",
        "    df['sorgu']=df['sorgu'].str.replace(word,\" \")\n",
        "\n",
        "cv=CountVectorizer(max_features=50)\n",
        "\n",
        "\n",
        "x=cv.fit_transform(df['sorgu']).toarray()\n",
        "y=df['label']\n",
        "\n",
        "\n",
        "tahmin=x[-1].copy()\n",
        "\n",
        "x=x[0:-1]\n",
        "y=y[0:-1]\n",
        "\n",
        "x_train,x_test,y_train,y_test=train_test_split(x,y,random_state=21,train_size=0.7)\n",
        "\n",
        "rf=RandomForestClassifier()\n",
        "model=rf.fit(x_train,y_train)\n",
        "skor=model.score(x_test,y_test)\n",
        "\n",
        "sonuc=model.predict([tahmin])\n",
        "\n",
        "print(\"Sonuc:\",sonuc,\"Skor:\",skor)\n",
        "\n"
      ],
      "metadata": {
        "colab": {
          "base_uri": "https://localhost:8080/"
        },
        "id": "PN23D4xb3Vw5",
        "outputId": "edc028be-f4fa-4969-bf8e-abe97e237b00"
      },
      "execution_count": null,
      "outputs": [
        {
          "output_type": "stream",
          "name": "stdout",
          "text": [
            "Yapmak İstediniz İşlemi Giriniz.kartımı bulamıyorum para cekecektim \n",
            "Sonuc: ['kartkayip'] Skor: 1.0\n"
          ]
        }
      ]
    },
    {
      "cell_type": "code",
      "source": [],
      "metadata": {
        "id": "hAtqTo6thcJ_"
      },
      "execution_count": null,
      "outputs": []
    }
  ]
}